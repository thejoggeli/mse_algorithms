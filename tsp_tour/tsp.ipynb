{
 "cells": [
  {
   "cell_type": "code",
   "execution_count": 1,
   "metadata": {},
   "outputs": [],
   "source": [
    "import MyAlgUtils\n",
    "import numpy as np"
   ]
  },
  {
   "cell_type": "code",
   "execution_count": 2,
   "metadata": {},
   "outputs": [
    {
     "ename": "NameError",
     "evalue": "name 'AlgUtils' is not defined",
     "output_type": "error",
     "traceback": [
      "\u001b[1;31m---------------------------------------------------------------------------\u001b[0m",
      "\u001b[1;31mNameError\u001b[0m                                 Traceback (most recent call last)",
      "Cell \u001b[1;32mIn[2], line 8\u001b[0m\n\u001b[0;32m      1\u001b[0m txt \u001b[39m=\u001b[39m \u001b[39m\"\"\"\u001b[39m\n\u001b[0;32m      2\u001b[0m \u001b[39m0 3 7 5\u001b[39m\n\u001b[0;32m      3\u001b[0m \u001b[39m3 0 2 3\u001b[39m\n\u001b[0;32m      4\u001b[0m \u001b[39m5 5 0 7\u001b[39m\n\u001b[0;32m      5\u001b[0m \u001b[39m4 2 4 0\u001b[39m\n\u001b[0;32m      6\u001b[0m \u001b[39m\"\"\"\u001b[39m\n\u001b[1;32m----> 8\u001b[0m mat \u001b[39m=\u001b[39m AlgUtils\u001b[39m.\u001b[39mtable_to_np(txt, np\u001b[39m.\u001b[39mint64)\n\u001b[0;32m      9\u001b[0m \u001b[39mprint\u001b[39m(mat)\n\u001b[0;32m     11\u001b[0m python_idx \u001b[39m=\u001b[39m np\u001b[39m.\u001b[39marange(\u001b[39m0\u001b[39m, mat\u001b[39m.\u001b[39mshape[\u001b[39m0\u001b[39m])\n",
      "\u001b[1;31mNameError\u001b[0m: name 'AlgUtils' is not defined"
     ]
    }
   ],
   "source": [
    "txt = \"\"\"\n",
    "0 3 7 5\n",
    "3 0 2 3\n",
    "5 5 0 7\n",
    "4 2 4 0\n",
    "\"\"\"\n",
    "\n",
    "mat = MyAlgUtils.table_to_np(txt, np.int64)\n",
    "print(mat)\n",
    "\n",
    "python_idx = np.arange(0, mat.shape[0])\n",
    "exam_idx_shift = 1\n",
    "\n",
    "def python_to_exam(idx):\n",
    "    return idx+exam_idx_shift\n",
    "\n",
    "def exam_to_python(idx):\n",
    "    return idx-exam_idx_shift\n",
    "\n",
    "def find_nearest(mat, idx):\n",
    "    vec = mat[idx,:].reshape(mat.shape[0])\n",
    "    return np.where(vec==np.min(vec[np.nonzero(vec)]))[0]\n",
    "    \n",
    "def tour_to_pairs(tour):\n",
    "    pairs = []\n",
    "    for i in range(0, len(tour)-1):\n",
    "        a = tour[i]\n",
    "        b = tour[i+1]\n",
    "        pair = (a, b)\n",
    "        pairs.append(pair)\n",
    "    return pairs\n",
    "\n",
    "def print_tour(tour):\n",
    "    tour = np.array(tour)\n",
    "    pairs = tour_to_pairs(tour)\n",
    "    cost = 0\n",
    "    print(f\"python -> {tour}\")\n",
    "    print(f\"exam   -> {python_to_exam(tour)}\")\n",
    "    for pair in pairs:\n",
    "        a = python_to_exam(pair[0])\n",
    "        b = python_to_exam(pair[1])\n",
    "        u = pair[0]\n",
    "        v = pair[1]\n",
    "        c = mat[pair[0],pair[1]]\n",
    "        print(f\"python({u} -> {v}) | exam({a} -> {b}) | cost is {c}\")\n",
    "        cost += c\n",
    "    print(f\"total cost is {cost}\")\n",
    "    \n",
    "def compute_cost(tour):\n",
    "    pairs = tour_to_pairs(tour)\n",
    "    cost = 0\n",
    "    for pair in pairs:\n",
    "        cost += mat[pair[0],pair[1]]\n",
    "    return cost\n",
    "\n",
    "def distance(mat, a, b):\n",
    "    return mat[a,b]\n",
    "\n"
   ]
  },
  {
   "cell_type": "code",
   "execution_count": null,
   "metadata": {},
   "outputs": [
    {
     "name": "stdout",
     "output_type": "stream",
     "text": [
      "[(1, 2), (2, 3), (3, 4), (4, 1)]\n"
     ]
    }
   ],
   "source": [
    "# convert tour to python indices \n",
    "\n",
    "tour = [1, 2, 3, 4, 1]\n",
    "\n",
    "\n",
    "pairs = tour_to_pairs(tour)\n",
    "print(pairs)\n"
   ]
  },
  {
   "cell_type": "code",
   "execution_count": null,
   "metadata": {},
   "outputs": [
    {
     "name": "stdout",
     "output_type": "stream",
     "text": [
      "python -> [0 1 2 3 0]\n",
      "exam   -> [1 2 3 4 1]\n",
      "python(0 -> 1) | exam(1 -> 2) | cost is 3\n",
      "python(1 -> 2) | exam(2 -> 3) | cost is 2\n",
      "python(2 -> 3) | exam(3 -> 4) | cost is 7\n",
      "python(3 -> 0) | exam(4 -> 1) | cost is 4\n",
      "total cost is 16\n"
     ]
    }
   ],
   "source": [
    "# compute the total cost of a given tour\n",
    "\n",
    "tour = [1, 2, 3, 4, 1]\n",
    "tour = exam_to_python(np.array(tour))\n",
    "print_tour(tour)\n"
   ]
  },
  {
   "cell_type": "code",
   "execution_count": null,
   "metadata": {},
   "outputs": [
    {
     "name": "stdout",
     "output_type": "stream",
     "text": [
      "python -> [0 1 2 3 0]\n",
      "exam   -> [1 2 3 4 1]\n",
      "python(0 -> 1) | exam(1 -> 2) | cost is 3\n",
      "python(1 -> 2) | exam(2 -> 3) | cost is 2\n",
      "python(2 -> 3) | exam(3 -> 4) | cost is 7\n",
      "python(3 -> 0) | exam(4 -> 1) | cost is 4\n",
      "total cost is 16\n"
     ]
    }
   ],
   "source": [
    "# use nearest neighbour method to compute a tour\n",
    "\n",
    "def nearest(mat, start, complete):\n",
    "    tour = [start]\n",
    "    M = np.copy(mat)\n",
    "    M[:,start] = 0\n",
    "    curr = start\n",
    "    while np.sum(M) > 0:\n",
    "        curr = find_nearest(M, curr)[0]\n",
    "        tour.append(curr)\n",
    "        M[:,curr] = 0\n",
    "    if(complete):\n",
    "        tour.append(start)\n",
    "    return tour\n",
    "\n",
    "tour = nearest(mat, start=exam_to_python(1), complete=True)\n",
    "print_tour(tour)"
   ]
  },
  {
   "cell_type": "code",
   "execution_count": null,
   "metadata": {},
   "outputs": [
    {
     "name": "stdout",
     "output_type": "stream",
     "text": [
      "current tour: [0], cost=0\n",
      "looking for best point out of [1, 2, 3]\n",
      "s=1, t=[1, 2, 3, 0], c=13\n",
      "s=2, t=[2, 1, 3, 0], c=12\n",
      "s=3, t=[3, 1, 2, 0], c=9\n",
      "best is s=3\n",
      "current tour: [0, 3], cost=5\n",
      "looking for best point out of [1, 2]\n",
      "s=1, t=[1, 2, 0], c=7\n",
      "s=2, t=[2, 1, 0], c=8\n",
      "best is s=2\n",
      "current tour: [0, 3, 1], cost=7\n",
      "looking for best point out of [2]\n",
      "s=2, t=[2, 0], c=5\n",
      "best is s=2\n",
      "python -> [0 3 1 2 0]\n",
      "exam   -> [1 4 2 3 1]\n",
      "python(0 -> 3) | exam(1 -> 4) | cost is 5\n",
      "python(3 -> 1) | exam(4 -> 2) | cost is 2\n",
      "python(1 -> 2) | exam(2 -> 3) | cost is 2\n",
      "python(2 -> 0) | exam(3 -> 1) | cost is 5\n",
      "total cost is 14\n"
     ]
    }
   ],
   "source": [
    "# use pilot method to compute a tour\n",
    "\n",
    "def pilot_nearest(mat, start, complete):\n",
    "    \n",
    "    M = np.copy(mat)\n",
    "\n",
    "    index = {i: True for i in range(mat.shape[0])}\n",
    "\n",
    "    tour = [start]\n",
    "    index.pop(start)\n",
    "\n",
    "    M[:,start] = 0\n",
    "\n",
    "    keys = list(index.keys())\n",
    "\n",
    "    while len(keys) > 0:\n",
    "        \n",
    "        cost = compute_cost(tour)\n",
    "        print(f\"current tour: {tour}, cost={cost}\")\n",
    "        \n",
    "        print(f\"looking for best point out of {keys}\")\n",
    "\n",
    "        c_min = None\n",
    "        c_best = None\n",
    "        for s in keys:\n",
    "            t = nearest(M, start=s, complete=False)\n",
    "            if(complete):\n",
    "                t.append(start)\n",
    "            c = compute_cost(t)\n",
    "            print(f\"s={s}, t={t}, c={c}\")\n",
    "            if(c_min is None or c < c_min):\n",
    "                c_min = c\n",
    "                c_best = s\n",
    "        \n",
    "        print(f\"best is s={s}\")\n",
    "        \n",
    "        tour.append(c_best)\n",
    "        index.pop(c_best)\n",
    "        M[:,c_best] = 0\n",
    "        \n",
    "        keys = list(index.keys())\n",
    "    \n",
    "    if(complete):\n",
    "        tour.append(start)\n",
    "\n",
    "    return tour\n",
    "\n",
    "tour = pilot_nearest(mat, start=exam_to_python(1), complete=True)\n",
    "print_tour(tour)"
   ]
  },
  {
   "cell_type": "code",
   "execution_count": null,
   "metadata": {},
   "outputs": [
    {
     "name": "stdout",
     "output_type": "stream",
     "text": [
      "python -> [0 3 1 2 0]\n",
      "exam   -> [1 4 2 3 1]\n",
      "python(0 -> 3) | exam(1 -> 4) | cost is 5\n",
      "python(3 -> 1) | exam(4 -> 2) | cost is 2\n",
      "python(1 -> 2) | exam(2 -> 3) | cost is 2\n",
      "python(2 -> 0) | exam(3 -> 1) | cost is 5\n",
      "total cost is 14\n"
     ]
    }
   ],
   "source": [
    "def exhaustive_tours(index, start, k, complete):\n",
    "\n",
    "    index.pop(start)\n",
    "    tours = []\n",
    "\n",
    "    def ex(k, index, t):\n",
    "        k -= 1\n",
    "        if(k >= 0 and len(index.keys()) > 0):\n",
    "            for i in index.keys():\n",
    "                ic = index.copy()\n",
    "                ic.pop(i)\n",
    "                tc = t.copy()\n",
    "                tc.append(i)\n",
    "                ex(k, ic, tc)\n",
    "        else:\n",
    "            tc = t.copy()\n",
    "            if(complete):\n",
    "                tc.append(start)\n",
    "            tours.append(tc)\n",
    "    \n",
    "    ex(k, index, [start])\n",
    "\n",
    "    return tours\n",
    "    \n",
    "\n",
    "def exhaustive(mat, start, k, complete):\n",
    "    index = {}\n",
    "    index = {i: True for i in range(mat.shape[0])}\n",
    "    tours = exhaustive_tours(index, start, k, complete=complete)\n",
    "    min_cost = None\n",
    "    min_idx = None\n",
    "    for i, tour in enumerate(tours):\n",
    "        c = compute_cost(tour)\n",
    "        if(min_cost is None or c < min_cost):\n",
    "            min_idx = i\n",
    "            min_cost = c\n",
    "\n",
    "    return tours[min_idx]\n",
    "\n",
    "tour = exhaustive(mat, exam_to_python(1), k=9999, complete=True)\n",
    "print_tour(tour)"
   ]
  },
  {
   "cell_type": "code",
   "execution_count": null,
   "metadata": {},
   "outputs": [
    {
     "name": "stdout",
     "output_type": "stream",
     "text": [
      "[0, 1, 2]\n",
      "total cost is 0\n"
     ]
    }
   ],
   "source": [
    "def beam_search(mat, start, B, k):\n",
    "    \n",
    "    P = []\n",
    "    tour = exhaustive(mat, start, k, complete=False)\n",
    "\n",
    "    print(tour)\n",
    "\n",
    "    P = []\n",
    "    return 0\n",
    "\n",
    "\n",
    "cost = beam_search(mat, exam_to_python(1), B=2, k=2)\n",
    "print(f\"total cost is {cost}\")"
   ]
  },
  {
   "cell_type": "code",
   "execution_count": null,
   "metadata": {},
   "outputs": [],
   "source": [
    "# https://en.wikipedia.org/wiki/3-opt\n",
    "\n",
    "def all_segments(n: int):\n",
    "    \"\"\"Generate all segments combinations\"\"\"\n",
    "    return ((i, j, k)\n",
    "        for i in range(n)\n",
    "        for j in range(i + 2, n)\n",
    "        for k in range(j + 2, n + (i > 0)))\n",
    "\n",
    "def three_opt_segment(tour, i, j, k, allow_reverse):\n",
    "    \"\"\"If reversing tour[i:j] would make the tour shorter, then do it.\"\"\"\n",
    "    # Given tour [...A-B...C-D...E-F...]\n",
    "    A, B, C, D, E, F = tour[i-1], tour[i], tour[j-1], tour[j], tour[k-1], tour[k % len(tour)]\n",
    "    d0 = distance(mat, A, B) + distance(mat, C, D) + distance(mat, E, F)\n",
    "    d1 = distance(mat, A, C) + distance(mat, B, D) + distance(mat, E, F)\n",
    "    d2 = distance(mat, A, B) + distance(mat, C, E) + distance(mat, D, F)\n",
    "    d3 = distance(mat, A, D) + distance(mat, E, B) + distance(mat, C, F)\n",
    "    d4 = distance(mat, F, B) + distance(mat, C, D) + distance(mat, E, A)\n",
    "\n",
    "    if allow_reverse and d0 > d1:\n",
    "        tour[i:j] = reversed(tour[i:j])\n",
    "        return -d0 + d1\n",
    "    elif allow_reverse and d0 > d2:\n",
    "        tour[j:k] = reversed(tour[j:k])\n",
    "        return -d0 + d2\n",
    "    elif allow_reverse and d0 > d4:\n",
    "        tour[i:k] = reversed(tour[i:k])\n",
    "        return -d0 + d4\n",
    "    elif d0 > d3:\n",
    "        tmp = tour[j:k] + tour[i:j]\n",
    "        tour[i:k] = tmp\n",
    "        return -d0 + d3\n",
    "    return 0\n",
    "\n",
    "def three_opt(tour, allow_reverse):\n",
    "    \"\"\"Iterative improvement based on 3 exchange.\"\"\"\n",
    "    while True:\n",
    "        delta = 0\n",
    "        for (a, b, c) in all_segments(len(tour)):\n",
    "            delta += three_opt_segment(tour, a, b, c, allow_reverse)\n",
    "        if delta >= 0:\n",
    "            break\n",
    "    return tour\n",
    "\n",
    "\n"
   ]
  },
  {
   "cell_type": "code",
   "execution_count": null,
   "metadata": {},
   "outputs": [
    {
     "name": "stdout",
     "output_type": "stream",
     "text": [
      "[1 2 3 4 5 6 7 8 1]\n",
      "[1 2 5 6 3 4 7 8 1]\n"
     ]
    }
   ],
   "source": [
    "# non-reversing three-opt\n",
    "\n",
    "def three_opt_non_reversing(tour, i, j, k):\n",
    "    tour = tour.copy()\n",
    "    tmp = np.concatenate((tour[j+1:k+1], tour[i+1:j+1]))\n",
    "    tour[i+1:k+1] = tmp\n",
    "    return tour\n",
    "\n",
    "tour = [1,2,3,4,5,6,7,8,1]\n",
    "tour = np.array(tour)\n",
    "print(tour)\n",
    "\n",
    "tour = exam_to_python(tour)\n",
    "i = exam_to_python(2) # first index of 1st edge \n",
    "j = exam_to_python(4) # first index of 2nd edge\n",
    "k = exam_to_python(6) # first index of 3rd edge\n",
    "tour = three_opt_non_reversing(tour, i, j, k)\n",
    "tour = python_to_exam(tour)\n",
    "\n",
    "print(tour)"
   ]
  }
 ],
 "metadata": {
  "kernelspec": {
   "display_name": "base",
   "language": "python",
   "name": "python3"
  },
  "language_info": {
   "codemirror_mode": {
    "name": "ipython",
    "version": 3
   },
   "file_extension": ".py",
   "mimetype": "text/x-python",
   "name": "python",
   "nbconvert_exporter": "python",
   "pygments_lexer": "ipython3",
   "version": "3.10.9"
  },
  "orig_nbformat": 4
 },
 "nbformat": 4,
 "nbformat_minor": 2
}
