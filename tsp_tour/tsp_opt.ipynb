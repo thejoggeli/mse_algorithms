{
 "cells": [
  {
   "cell_type": "code",
   "execution_count": 78,
   "metadata": {},
   "outputs": [],
   "source": [
    "import numpy as np"
   ]
  },
  {
   "cell_type": "code",
   "execution_count": 79,
   "metadata": {},
   "outputs": [],
   "source": [
    "names = [\"c1\", \"c2\", \"c3\", \"c4\", \"c5\", \"c6\", \"c7\", \"c8\"]\n",
    "\n",
    "name_to_index_map = {}\n",
    "for index, name in enumerate(names):\n",
    "    name_to_index_map[name] = index"
   ]
  },
  {
   "cell_type": "code",
   "execution_count": 82,
   "metadata": {},
   "outputs": [],
   "source": [
    "# https://en.wikipedia.org/wiki/3-opt\n",
    "\n",
    "def successor(index):\n",
    "    index += 1\n",
    "    if(index >= len(names)):\n",
    "        index = 0\n",
    "    return index\n",
    "\n",
    "def name_to_index(name):\n",
    "    if(type(name) is list):\n",
    "        indices = []\n",
    "        for n in name:\n",
    "            indices.append(name_to_index_map[n])\n",
    "        return indices\n",
    "    return name_to_index_map[name]\n",
    "\n",
    "def index_to_name(index):\n",
    "    if(type(index) == list):\n",
    "        n = []\n",
    "        for i in index:\n",
    "            n.append(names[i])\n",
    "        return n\n",
    "    return names[index]\n",
    "\n",
    "def distance(mat, a, b):\n",
    "    return mat[a,b]\n",
    "\n",
    "def all_segments(n: int):\n",
    "    \"\"\"Generate all segments combinations\"\"\"\n",
    "    return ((i, j, k)\n",
    "        for i in range(n)\n",
    "        for j in range(i + 2, n)\n",
    "        for k in range(j + 2, n + (i > 0)))\n",
    "\n",
    "def three_opt_segment(mat, tour, i, j, k):\n",
    "    \"\"\"If reversing tour[i:j] would make the tour shorter, then do it.\"\"\"\n",
    "    # Given tour [...A-B...C-D...E-F...]\n",
    "    A, B, C, D, E, F = tour[i-1], tour[i], tour[j-1], tour[j], tour[k-1], tour[k % len(tour)]\n",
    "    d0 = distance(mat, A, B) + distance(mat, C, D) + distance(mat, E, F)\n",
    "    d1 = distance(mat, A, C) + distance(mat, B, D) + distance(mat, E, F)\n",
    "    d2 = distance(mat, A, B) + distance(mat, C, E) + distance(mat, D, F)\n",
    "    d3 = distance(mat, A, D) + distance(mat, E, B) + distance(mat, C, F)\n",
    "    d4 = distance(mat, F, B) + distance(mat, C, D) + distance(mat, E, A)\n",
    "\n",
    "    if d0 > d1:\n",
    "        tour[i:j] = reversed(tour[i:j])\n",
    "        return -d0 + d1\n",
    "    elif d0 > d2:\n",
    "        tour[j:k] = reversed(tour[j:k])\n",
    "        return -d0 + d2\n",
    "    elif d0 > d4:\n",
    "        tour[i:k] = reversed(tour[i:k])\n",
    "        return -d0 + d4\n",
    "    elif d0 > d3:\n",
    "        tmp = tour[j:k] + tour[i:j]\n",
    "        tour[i:k] = tmp\n",
    "        return -d0 + d3\n",
    "    return 0\n",
    "\n",
    "def three_opt(mat, tour):\n",
    "    \"\"\"Iterative improvement based on 3 exchange.\"\"\"\n",
    "    while True:\n",
    "        delta = 0\n",
    "        for (a, b, c) in all_segments(len(tour)):\n",
    "            delta += three_opt_segment(mat, tour, a, b, c)\n",
    "        if delta >= 0:\n",
    "            break\n",
    "    return tour\n",
    "\n",
    "def three_opt_non_reversing(tour, i, j, k):\n",
    "    tour = tour.copy()\n",
    "    tmp = np.concatenate((tour[j+1:k+1], tour[i+1:j+1]))\n",
    "    tour[i+1:k+1] = tmp\n",
    "    return tour\n",
    "\n",
    "def print_3opt_input(tour, i, j, k):\n",
    "    i2 = index_to_name(successor(name_to_index(i)))\n",
    "    j2 = index_to_name(successor(name_to_index(j)))\n",
    "    k2 = index_to_name(successor(name_to_index(k)))\n",
    "    print(f\"3-opt:  {i}-{i2} (1st edge)\")\n",
    "    print(f\"3-opt:  {j}-{j2} (2nd edge)\")\n",
    "    print(f\"3-opt:  {k}-{k2} (3rd edge)\")\n",
    "    print(f\"input:  {'-'.join(tour)}\")\n",
    "\n",
    "def print_3opt_result(tour):\n",
    "    print(f\"result: {'-'.join(tour)}\")"
   ]
  },
  {
   "attachments": {},
   "cell_type": "markdown",
   "metadata": {},
   "source": [
    "### non-reversing 3-opt"
   ]
  },
  {
   "cell_type": "code",
   "execution_count": 81,
   "metadata": {},
   "outputs": [
    {
     "name": "stdout",
     "output_type": "stream",
     "text": [
      "3-opt:  c2-c3 (1st edge)\n",
      "3-opt:  c4-c5 (2nd edge)\n",
      "3-opt:  c6-c7 (3rd edge)\n",
      "input:  c1-c2-c3-c4-c5-c6-c7-c8-c1\n",
      "result: c1-c2-c5-c6-c3-c4-c7-c8-c1\n"
     ]
    }
   ],
   "source": [
    "tour = [\"c1\", \"c2\", \"c3\", \"c4\", \"c5\", \"c6\", \"c7\", \"c8\", \"c1\"]\n",
    "i = \"c2\" # first name of 1st edge \n",
    "j = \"c4\" # first name of 2nd edge\n",
    "k = \"c6\" # first name of 3rd edge\n",
    "\n",
    "# print input\n",
    "print_3opt_input(tour, i, j, k)\n",
    "\n",
    "# names to indices\n",
    "tour = name_to_index(tour)\n",
    "i = name_to_index(i) \n",
    "j = name_to_index(j)\n",
    "k = name_to_index(k)\n",
    "\n",
    "# compute result\n",
    "tour = three_opt_non_reversing(tour, i, j, k)\n",
    "tour = index_to_name(tour)\n",
    "\n",
    "# print result\n",
    "print_3opt_result(tour)"
   ]
  },
  {
   "attachments": {},
   "cell_type": "markdown",
   "metadata": {},
   "source": [
    "### reversing 3-opt"
   ]
  },
  {
   "cell_type": "code",
   "execution_count": null,
   "metadata": {},
   "outputs": [],
   "source": [
    "# TODO\n",
    "# three_opt_segment() might be buggy (wrong array indices)"
   ]
  }
 ],
 "metadata": {
  "kernelspec": {
   "display_name": "base",
   "language": "python",
   "name": "python3"
  },
  "language_info": {
   "codemirror_mode": {
    "name": "ipython",
    "version": 3
   },
   "file_extension": ".py",
   "mimetype": "text/x-python",
   "name": "python",
   "nbconvert_exporter": "python",
   "pygments_lexer": "ipython3",
   "version": "3.10.9"
  },
  "orig_nbformat": 4
 },
 "nbformat": 4,
 "nbformat_minor": 2
}
