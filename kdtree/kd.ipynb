{
 "cells": [
  {
   "cell_type": "code",
   "execution_count": 1,
   "metadata": {},
   "outputs": [],
   "source": [
    "%load_ext autoreload\n",
    "%autoreload 2\n",
    "\n",
    "import numpy as np\n",
    "import matplotlib\n",
    "import matplotlib.pyplot as plt\n",
    "from MyKDTree import KDTree"
   ]
  },
  {
   "cell_type": "code",
   "execution_count": 16,
   "metadata": {},
   "outputs": [
    {
     "ename": "AttributeError",
     "evalue": "'Point' object has no attribute 'depth'",
     "output_type": "error",
     "traceback": [
      "\u001b[1;31m---------------------------------------------------------------------------\u001b[0m",
      "\u001b[1;31mAttributeError\u001b[0m                            Traceback (most recent call last)",
      "Cell \u001b[1;32mIn[16], line 3\u001b[0m\n\u001b[0;32m      1\u001b[0m tree \u001b[39m=\u001b[39m KDTree()\n\u001b[1;32m----> 3\u001b[0m tree\u001b[39m.\u001b[39;49madd_point(\u001b[39m54\u001b[39;49m, \u001b[39m22\u001b[39;49m)\n\u001b[0;32m      4\u001b[0m tree\u001b[39m.\u001b[39madd_point(\u001b[39m34\u001b[39m, \u001b[39m13\u001b[39m)\n\u001b[0;32m      5\u001b[0m tree\u001b[39m.\u001b[39madd_point(\u001b[39m26\u001b[39m, \u001b[39m5\u001b[39m)\n",
      "File \u001b[1;32mc:\\users\\michael.schneeberger\\desktop\\ftp_alg\\code\\MyKDTree.py:69\u001b[0m, in \u001b[0;36mKDTree.add_point\u001b[1;34m(self, x, y)\u001b[0m\n\u001b[0;32m     67\u001b[0m \u001b[39mdef\u001b[39;00m \u001b[39madd_point\u001b[39m(\u001b[39mself\u001b[39m, x, y):\n\u001b[0;32m     68\u001b[0m     index \u001b[39m=\u001b[39m \u001b[39mlen\u001b[39m(\u001b[39mself\u001b[39m\u001b[39m.\u001b[39mpoints)\n\u001b[1;32m---> 69\u001b[0m     p \u001b[39m=\u001b[39m Point(index, x, y)\n\u001b[0;32m     70\u001b[0m     \u001b[39mself\u001b[39m\u001b[39m.\u001b[39mpoints\u001b[39m.\u001b[39mappend(p)\n",
      "File \u001b[1;32mc:\\users\\michael.schneeberger\\desktop\\ftp_alg\\code\\MyKDTree.py:38\u001b[0m, in \u001b[0;36mPoint.__init__\u001b[1;34m(self, index, x, y)\u001b[0m\n\u001b[0;32m     36\u001b[0m \u001b[39mself\u001b[39m\u001b[39m.\u001b[39mx \u001b[39m=\u001b[39m x\n\u001b[0;32m     37\u001b[0m \u001b[39mself\u001b[39m\u001b[39m.\u001b[39my \u001b[39m=\u001b[39m y\n\u001b[1;32m---> 38\u001b[0m \u001b[39mself\u001b[39;49m\u001b[39m.\u001b[39;49mdepth\n",
      "\u001b[1;31mAttributeError\u001b[0m: 'Point' object has no attribute 'depth'"
     ]
    }
   ],
   "source": [
    "tree = KDTree()\n",
    "\n",
    "tree.add_point(54, 22)\n",
    "tree.add_point(34, 13)\n",
    "tree.add_point(26, 5)\n",
    "tree.add_point(62, 42)\n",
    "tree.add_point(45, 16)\n",
    "tree.add_point(36, 12)\n",
    "tree.add_point(53, 19)\n",
    "tree.add_point(47, 25)\n",
    "tree.add_point(51, 30)\n",
    "\n",
    "# build the tree\n",
    "tree.build(split_between=True)\n",
    "\n",
    "# print three\n",
    "tree.print()\n",
    "\n",
    "# draw split\n",
    "matplotlib.rcParams['figure.figsize'] = [10, 5]\n",
    "tree.draw_split()\n",
    "\n",
    "# draw tree\n",
    "matplotlib.rcParams['figure.figsize'] = [12, 6]\n",
    "tree.draw_tree()"
   ]
  }
 ],
 "metadata": {
  "kernelspec": {
   "display_name": "Python 3.9.7 ('base')",
   "language": "python",
   "name": "python3"
  },
  "language_info": {
   "codemirror_mode": {
    "name": "ipython",
    "version": 3
   },
   "file_extension": ".py",
   "mimetype": "text/x-python",
   "name": "python",
   "nbconvert_exporter": "python",
   "pygments_lexer": "ipython3",
   "version": "3.10.9"
  },
  "orig_nbformat": 4,
  "vscode": {
   "interpreter": {
    "hash": "ddf421802cf8ef252bb6ce0bb08dfd281eb3d0fdb4a984df55cbb1603816c7f5"
   }
  }
 },
 "nbformat": 4,
 "nbformat_minor": 2
}
