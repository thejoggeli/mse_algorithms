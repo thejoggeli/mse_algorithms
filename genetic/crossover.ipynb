{
 "cells": [
  {
   "cell_type": "code",
   "execution_count": 1,
   "metadata": {},
   "outputs": [],
   "source": [
    "import numpy as np"
   ]
  },
  {
   "cell_type": "code",
   "execution_count": 76,
   "metadata": {},
   "outputs": [],
   "source": [
    "def print_range(arr, r):\n",
    "    x = r[0]\n",
    "    y = r[1]\n",
    "    res = \"[\"\n",
    "    for i in range(0, len(arr)):\n",
    "        if(i == x):\n",
    "            res += \">> \"\n",
    "        res += str(arr[i])\n",
    "        res += \" \"\n",
    "        if(i == y):\n",
    "            res += \"<< \"\n",
    "    res = res[:-1]\n",
    "    res += \"]\"\n",
    "    return res"
   ]
  },
  {
   "cell_type": "code",
   "execution_count": 95,
   "metadata": {},
   "outputs": [
    {
     "name": "stdout",
     "output_type": "stream",
     "text": [
      "P1 [6 8 7 >> 1 4 9 2 << 5 3]\n",
      "P2 [4 7 2 >> 5 8 6 3 << 9 1]\n",
      "--\n",
      "O1 [4 9 2 >> 5 8 6 3 << 7 1]\n",
      "O2 [8 6 3 >> 1 4 9 2 << 7 5]\n"
     ]
    }
   ],
   "source": [
    "# first value of swap is 0\n",
    "# last value of swap is inclusive \n",
    "def order1(P1, P2, swap):\n",
    "\n",
    "    x = swap[0]\n",
    "    y = swap[1]\n",
    "    \n",
    "    P1 = np.array(P1)\n",
    "    P2 = np.array(P2)\n",
    "\n",
    "    def offspring(p1, p2):\n",
    "\n",
    "        O = np.full(p1.shape, -1)\n",
    "        O[x:y+1] = p2[x:y+1]\n",
    "\n",
    "        R = np.roll(np.copy(p1), -(y+1))\n",
    "        V = []\n",
    "\n",
    "        for val in R:\n",
    "            if val in O:\n",
    "                continue\n",
    "            V.append(val)\n",
    "\n",
    "        V.reverse()\n",
    "        i = y\n",
    "        while(len(V) > 0):\n",
    "            if O[i] == -1:\n",
    "                O[i] = V.pop()\n",
    "            i += 1\n",
    "            if(i >= len(O)):\n",
    "                i = 0\n",
    "                \n",
    "        return O\n",
    "    \n",
    "    O1 = offspring(P1, P2)\n",
    "    O2 = offspring(P2, P1)\n",
    "\n",
    "    return O1, O2\n",
    "\n",
    "P1 = [6, 8, 7, 1, 4, 9, 2, 5, 3]\n",
    "P2 = [4, 7, 2, 5, 8, 6, 3, 9, 1]\n",
    "swap = (3, 6)\n",
    "O1, O2 = order1(P1, P2, swap)\n",
    "\n",
    "print(\"P1\", print_range(P1, swap))\n",
    "print(\"P2\", print_range(P2, swap))\n",
    "print(\"--\")\n",
    "print(\"O1\", print_range(O1, swap))\n",
    "print(\"O2\", print_range(O2, swap))"
   ]
  },
  {
   "cell_type": "code",
   "execution_count": 93,
   "metadata": {},
   "outputs": [
    {
     "name": "stdout",
     "output_type": "stream",
     "text": [
      "P1 [1 3 8 >> 2 7 4 << 5 6]\n",
      "P2 [8 3 4 >> 7 6 1 << 5 2]\n",
      "--\n",
      "O1 [4 3 8 >> 7 6 1 << 5 2]\n",
      "O2 [8 3 1 >> 2 7 4 << 5 6]\n"
     ]
    }
   ],
   "source": [
    "# from stackoverflow:\n",
    "# https://stackoverflow.com/questions/53254449/how-to-perform-partial-mapped-crossover-in-python3\n",
    "def PMX_crossover(P1, P2, swap):\n",
    "\n",
    "    parent1 = np.array(P1)\n",
    "    parent2 = np.array(P2)\n",
    "\n",
    "    cutoff_1 = swap[0]\n",
    "    cutoff_2 = swap[1]+1\n",
    "\n",
    "    def PMX_one_offspring(p1, p2):\n",
    "        offspring = np.zeros(len(p1), dtype=p1.dtype)\n",
    "\n",
    "        # Copy the mapping section (middle) from parent1\n",
    "        offspring[cutoff_1:cutoff_2] = p1[cutoff_1:cutoff_2]\n",
    "\n",
    "        # copy the rest from parent2 (provided it's not already there\n",
    "        for i in np.concatenate([np.arange(0,cutoff_1), np.arange(cutoff_2,len(p1))]):\n",
    "            candidate = p2[i]\n",
    "            while candidate in p1[cutoff_1:cutoff_2]: # allows for several successive mappings\n",
    "                candidate = p2[np.where(p1 == candidate)[0][0]]\n",
    "            offspring[i] = candidate\n",
    "        return offspring\n",
    "\n",
    "    offspring2 = PMX_one_offspring(parent1, parent2)\n",
    "    offspring1 = PMX_one_offspring(parent2, parent1)\n",
    "\n",
    "    return offspring1, offspring2\n",
    "\n",
    "p1 = [1, 3, 8, 2, 7, 4, 5, 6]\n",
    "p2 = [8, 3, 4, 7, 6, 1, 5, 2]\n",
    "swap = (3, 5)\n",
    "O1, O2 = PMX_crossover(p1, p2, swap)\n",
    "\n",
    "print(\"P1\", print_range(p1, swap))\n",
    "print(\"P2\", print_range(p2, swap))\n",
    "print(\"--\")\n",
    "print(\"O1\", print_range(O1, swap))\n",
    "print(\"O2\", print_range(O2, swap))"
   ]
  }
 ],
 "metadata": {
  "kernelspec": {
   "display_name": "base",
   "language": "python",
   "name": "python3"
  },
  "language_info": {
   "codemirror_mode": {
    "name": "ipython",
    "version": 3
   },
   "file_extension": ".py",
   "mimetype": "text/x-python",
   "name": "python",
   "nbconvert_exporter": "python",
   "pygments_lexer": "ipython3",
   "version": "3.10.9"
  },
  "orig_nbformat": 4
 },
 "nbformat": 4,
 "nbformat_minor": 2
}
