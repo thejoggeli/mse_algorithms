{
 "cells": [
  {
   "cell_type": "code",
   "execution_count": 2,
   "metadata": {},
   "outputs": [],
   "source": [
    "import matplotlib\n",
    "import matplotlib.pyplot as plt\n",
    "import numpy as np"
   ]
  },
  {
   "cell_type": "code",
   "execution_count": 8,
   "metadata": {},
   "outputs": [
    {
     "name": "stdout",
     "output_type": "stream",
     "text": [
      "index        [ 0   1   2   3   4   5   6   7   8   9  10  11  12  13]\n",
      "depth: 0 --> [ 3   8   5   0   2   9   4   5  10   1  10   6   1   7]\n",
      "depth: 0 --> [ 3   5   0   2   4   5   1   6   1   7  10   9  10   8], q=9\n",
      "depth: 1 --> [ 3   5   0   2   4   5   1   6   1]\n",
      "depth: 1 --> [ 0   1   1   2   4   5   5   6   3], q=2\n",
      "depth: 2 --> [ 0   1]\n",
      "depth: 2 --> [ 0   1], q=1\n",
      "depth: 3 --> [ 0]\n",
      "depth: 3 --> []\n",
      "depth: 2 --> [ 2   4   5   5   6   3]\n",
      "depth: 2 --> [ 2   3   5   5   6   4], q=4\n",
      "depth: 3 --> [ 2]\n",
      "depth: 3 --> [ 5   5   6   4]\n",
      "depth: 3 --> [ 4   5   6   5], q=5\n",
      "depth: 4 --> []\n",
      "depth: 4 --> [ 5   6   5]\n",
      "depth: 4 --> [ 5   5   6], q=7\n",
      "depth: 5 --> [ 5]\n",
      "depth: 5 --> [ 6]\n",
      "depth: 1 --> [10   9  10   8]\n",
      "depth: 1 --> [ 8   9  10  10], q=10\n",
      "depth: 2 --> []\n",
      "depth: 2 --> [ 9  10  10]\n",
      "depth: 2 --> [ 9  10  10], q=13\n",
      "depth: 3 --> [ 9  10]\n",
      "depth: 3 --> [ 9  10], q=12\n",
      "depth: 4 --> [ 9]\n",
      "depth: 4 --> []\n",
      "depth: 3 --> []\n",
      "index    [ 1   2   3   4   5   6   7   8   9  10  11  12  13  14]\n",
      "original [ 3   8   5   0   2   9   4   5  10   1  10   6   1   7]\n",
      "sorted   [ 0   1   1   2   3   4   5   5   6   7   8   9  10  10]\n",
      "\n"
     ]
    }
   ],
   "source": [
    "arr = np.concatenate([np.arange(0,11), (1,5,10)])\n",
    "np.random.seed(777)  \n",
    "np.random.shuffle(arr)\n",
    "\n",
    "def arr_to_str(arr, padding=2):\n",
    "    s = []\n",
    "    for i in arr:\n",
    "        if(i == -1):\n",
    "            z = \"-\".rjust(padding, \" \") \n",
    "        else:\n",
    "            z = str(i).rjust(padding, \" \")\n",
    "        s.append(z)\n",
    "    return \"[\" + \"  \".join(s) + \"]\"\n",
    "\n",
    "def exchange(arr, a, b):   \n",
    "    tmp = arr[a]\n",
    "    arr[a] = arr[b]\n",
    "    arr[b] = tmp\n",
    "\n",
    "def partition(A, p, r):\n",
    "    x = A[r]\n",
    "    i = p-1\n",
    "    for j in range(p, r):\n",
    "        if(A[j] <= x):\n",
    "            i = i+1\n",
    "            exchange(A, i, j)\n",
    "    exchange(A, i+1, r)\n",
    "    return i+1\n",
    "\n",
    "def quicksort(A, p, r, depth=0):\n",
    "    before = arr_to_str(A[p:r+1])\n",
    "    print(f\"depth: {depth:d} --> {before}\")\n",
    "    if p < r:\n",
    "        q = partition(A, p, r)\n",
    "        after = arr_to_str(A[p:r+1])\n",
    "        print(f\"depth: {depth:d} --> {after}, q={q}\")\n",
    "        quicksort(A, p, q-1, depth+1)\n",
    "        quicksort(A, q+1, r, depth+1)\n",
    "\n",
    "print(\"index       \", arr_to_str(np.arange(len(arr))))\n",
    "\n",
    "arr_sorted = arr.copy()\n",
    "quicksort(arr_sorted, 0, len(arr_sorted)-1)\n",
    "\n",
    "print(\"index   \", arr_to_str(np.arange(len(arr))+1))\n",
    "print(\"original\", arr_to_str(arr))\n",
    "print(\"sorted  \", arr_to_str(arr_sorted))\n",
    "\n",
    "print()"
   ]
  },
  {
   "cell_type": "code",
   "execution_count": null,
   "metadata": {},
   "outputs": [],
   "source": []
  }
 ],
 "metadata": {
  "kernelspec": {
   "display_name": "base",
   "language": "python",
   "name": "python3"
  },
  "language_info": {
   "codemirror_mode": {
    "name": "ipython",
    "version": 3
   },
   "file_extension": ".py",
   "mimetype": "text/x-python",
   "name": "python",
   "nbconvert_exporter": "python",
   "pygments_lexer": "ipython3",
   "version": "3.10.9"
  },
  "orig_nbformat": 4
 },
 "nbformat": 4,
 "nbformat_minor": 2
}
