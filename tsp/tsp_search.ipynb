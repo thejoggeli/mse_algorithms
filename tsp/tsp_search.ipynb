{
 "cells": [
  {
   "cell_type": "code",
   "execution_count": 2,
   "metadata": {},
   "outputs": [],
   "source": [
    "%load_ext autoreload\n",
    "%autoreload 2\n",
    "\n",
    "from MyTSP import TSP\n",
    "import numpy as np"
   ]
  },
  {
   "cell_type": "code",
   "execution_count": 4,
   "metadata": {},
   "outputs": [
    {
     "name": "stdout",
     "output_type": "stream",
     "text": [
      "[[nan  3.  7.  5.]\n",
      " [ 3. nan  2.  3.]\n",
      " [ 5.  5. nan  7.]\n",
      " [ 4.  2.  4. nan]]\n"
     ]
    }
   ],
   "source": [
    "txt = \"\"\"\n",
    "- 3 7 5\n",
    "3 - 2 3\n",
    "5 5 - 7\n",
    "4 2 4 -\n",
    "\"\"\"\n",
    "\n",
    "names = [\"c1\", \"c2\", \"c3\", \"c4\"]\n",
    "\n",
    "tsp = TSP()\n",
    "tsp.from_text(names, txt)\n",
    "\n",
    "print(tsp.get_matrix())"
   ]
  },
  {
   "attachments": {},
   "cell_type": "markdown",
   "metadata": {},
   "source": [
    "### compute the cost of a tour"
   ]
  },
  {
   "cell_type": "code",
   "execution_count": 9,
   "metadata": {},
   "outputs": [
    {
     "name": "stdout",
     "output_type": "stream",
     "text": [
      "cost=16.0\n"
     ]
    }
   ],
   "source": [
    "tour = [\"c1\", \"c2\", \"c3\", \"c4\", \"c1\"]\n",
    "for i, name in enumerate(tour):\n",
    "    tour[i] = tsp.name_to_index(name)\n",
    "\n",
    "cost = tsp.compute_cost(tour)\n",
    "print(f\"cost={cost}\")"
   ]
  },
  {
   "attachments": {},
   "cell_type": "markdown",
   "metadata": {},
   "source": [
    "### nearest neighbour"
   ]
  },
  {
   "cell_type": "code",
   "execution_count": 38,
   "metadata": {},
   "outputs": [
    {
     "name": "stdout",
     "output_type": "stream",
     "text": [
      "tour (index) -> [0 1 2 3 0]\n",
      "tour (names) -> ['c1', 'c2', 'c3', 'c4', 'c1']\n",
      "index(0 -> 1) | name(c1 -> c2) | cost is 3.0\n",
      "index(1 -> 2) | name(c2 -> c3) | cost is 2.0\n",
      "index(2 -> 3) | name(c3 -> c4) | cost is 7.0\n",
      "index(3 -> 0) | name(c4 -> c1) | cost is 4.0\n",
      "total cost is 16.0\n"
     ]
    }
   ],
   "source": [
    "start = tsp.name_to_index(\"c1\")\n",
    "tour = tsp.search_nearest(start=start, complete=True)\n",
    "tsp.print_tour(tour)"
   ]
  },
  {
   "attachments": {},
   "cell_type": "markdown",
   "metadata": {},
   "source": [
    "### pilot search"
   ]
  },
  {
   "cell_type": "code",
   "execution_count": 44,
   "metadata": {},
   "outputs": [
    {
     "name": "stdout",
     "output_type": "stream",
     "text": [
      "current tour: i=[0], n=['c1'], cost=0\n",
      "looking for best point out of [1, 2, 3]\n",
      "s=1, i=[1, 0, 3, 2, 0], n=['c2', 'c1', 'c4', 'c3', 'c1'], c=17.0\n",
      "s=2, i=[2, 0, 1, 3, 0], n=['c3', 'c1', 'c2', 'c4', 'c1'], c=15.0\n",
      "s=3, i=[3, 0, 1, 2, 0], n=['c4', 'c1', 'c2', 'c3', 'c1'], c=14.0\n",
      "best is s=3\n",
      "current tour: i=[0, 3], n=['c1', 'c4'], cost=5.0\n",
      "looking for best point out of [1, 2]\n",
      "s=1, i=[1, 0, 3, 2, 0], n=['c2', 'c1', 'c4', 'c3', 'c1'], c=17.0\n",
      "s=2, i=[2, 0, 3, 1, 0], n=['c3', 'c1', 'c4', 'c2', 'c1'], c=15.0\n",
      "best is s=2\n",
      "current tour: i=[0, 3, 2], n=['c1', 'c4', 'c3'], cost=9.0\n",
      "looking for best point out of [1]\n",
      "s=1, i=[1, 0, 2, 3, 0], n=['c2', 'c1', 'c3', 'c4', 'c1'], c=21.0\n",
      "best is s=1\n",
      "tour (index) -> [0 3 2 1 0]\n",
      "tour (names) -> ['c1', 'c4', 'c3', 'c2', 'c1']\n",
      "index(0 -> 3) | name(c1 -> c4) | cost is 5.0\n",
      "index(3 -> 2) | name(c4 -> c3) | cost is 4.0\n",
      "index(2 -> 1) | name(c3 -> c2) | cost is 5.0\n",
      "index(1 -> 0) | name(c2 -> c1) | cost is 3.0\n",
      "total cost is 17.0\n"
     ]
    }
   ],
   "source": [
    "start = tsp.name_to_index(\"c1\")\n",
    "tour = tsp.search_pilot(start=start, complete=True)\n",
    "tsp.print_tour(tour)"
   ]
  },
  {
   "attachments": {},
   "cell_type": "markdown",
   "metadata": {},
   "source": [
    "### exhaustive search"
   ]
  },
  {
   "cell_type": "code",
   "execution_count": 52,
   "metadata": {},
   "outputs": [
    {
     "name": "stdout",
     "output_type": "stream",
     "text": [
      "searching through 6 tours\n",
      "tour (index) -> [0 3 1 2 0]\n",
      "tour (names) -> ['c1', 'c4', 'c2', 'c3', 'c1']\n",
      "index(0 -> 3) | name(c1 -> c4) | cost is 5.0\n",
      "index(3 -> 1) | name(c4 -> c2) | cost is 2.0\n",
      "index(1 -> 2) | name(c2 -> c3) | cost is 2.0\n",
      "index(2 -> 0) | name(c3 -> c1) | cost is 5.0\n",
      "total cost is 14.0\n"
     ]
    }
   ],
   "source": [
    "start = tsp.name_to_index(\"c1\")\n",
    "tour = tsp.exhaustive_search(start=start, complete=True, k=9999)\n",
    "tsp.print_tour(tour)"
   ]
  },
  {
   "cell_type": "code",
   "execution_count": null,
   "metadata": {},
   "outputs": [],
   "source": [
    "# https://en.wikipedia.org/wiki/3-opt\n",
    "\n",
    "def all_segments(n: int):\n",
    "    \"\"\"Generate all segments combinations\"\"\"\n",
    "    return ((i, j, k)\n",
    "        for i in range(n)\n",
    "        for j in range(i + 2, n)\n",
    "        for k in range(j + 2, n + (i > 0)))\n",
    "\n",
    "def three_opt_segment(tour, i, j, k, allow_reverse):\n",
    "    \"\"\"If reversing tour[i:j] would make the tour shorter, then do it.\"\"\"\n",
    "    # Given tour [...A-B...C-D...E-F...]\n",
    "    A, B, C, D, E, F = tour[i-1], tour[i], tour[j-1], tour[j], tour[k-1], tour[k % len(tour)]\n",
    "    d0 = distance(mat, A, B) + distance(mat, C, D) + distance(mat, E, F)\n",
    "    d1 = distance(mat, A, C) + distance(mat, B, D) + distance(mat, E, F)\n",
    "    d2 = distance(mat, A, B) + distance(mat, C, E) + distance(mat, D, F)\n",
    "    d3 = distance(mat, A, D) + distance(mat, E, B) + distance(mat, C, F)\n",
    "    d4 = distance(mat, F, B) + distance(mat, C, D) + distance(mat, E, A)\n",
    "\n",
    "    if allow_reverse and d0 > d1:\n",
    "        tour[i:j] = reversed(tour[i:j])\n",
    "        return -d0 + d1\n",
    "    elif allow_reverse and d0 > d2:\n",
    "        tour[j:k] = reversed(tour[j:k])\n",
    "        return -d0 + d2\n",
    "    elif allow_reverse and d0 > d4:\n",
    "        tour[i:k] = reversed(tour[i:k])\n",
    "        return -d0 + d4\n",
    "    elif d0 > d3:\n",
    "        tmp = tour[j:k] + tour[i:j]\n",
    "        tour[i:k] = tmp\n",
    "        return -d0 + d3\n",
    "    return 0\n",
    "\n",
    "def three_opt(tour, allow_reverse):\n",
    "    \"\"\"Iterative improvement based on 3 exchange.\"\"\"\n",
    "    while True:\n",
    "        delta = 0\n",
    "        for (a, b, c) in all_segments(len(tour)):\n",
    "            delta += three_opt_segment(tour, a, b, c, allow_reverse)\n",
    "        if delta >= 0:\n",
    "            break\n",
    "    return tour\n",
    "\n",
    "\n"
   ]
  },
  {
   "cell_type": "code",
   "execution_count": null,
   "metadata": {},
   "outputs": [],
   "source": [
    "# non-reversing three-opt\n",
    "\n",
    "def three_opt_non_reversing(tour, i, j, k):\n",
    "    tour = tour.copy()\n",
    "    tmp = np.concatenate((tour[j+1:k+1], tour[i+1:j+1]))\n",
    "    tour[i+1:k+1] = tmp\n",
    "    return tour\n",
    "\n",
    "tour = [1,2,3,4,5,6,7,8,1]\n",
    "tour = np.array(tour)\n",
    "print(tour)\n",
    "\n",
    "tour = exam_to_python(tour)\n",
    "i = exam_to_python(2) # first index of 1st edge \n",
    "j = exam_to_python(4) # first index of 2nd edge\n",
    "k = exam_to_python(6) # first index of 3rd edge\n",
    "tour = three_opt_non_reversing(tour, i, j, k)\n",
    "tour = python_to_exam(tour)\n",
    "\n",
    "print(tour)"
   ]
  }
 ],
 "metadata": {
  "kernelspec": {
   "display_name": "base",
   "language": "python",
   "name": "python3"
  },
  "language_info": {
   "codemirror_mode": {
    "name": "ipython",
    "version": 3
   },
   "file_extension": ".py",
   "mimetype": "text/x-python",
   "name": "python",
   "nbconvert_exporter": "python",
   "pygments_lexer": "ipython3",
   "version": "3.10.9"
  },
  "orig_nbformat": 4
 },
 "nbformat": 4,
 "nbformat_minor": 2
}
