{
 "cells": [
  {
   "cell_type": "code",
   "execution_count": 1,
   "metadata": {},
   "outputs": [],
   "source": [
    "import AlgUtils\n",
    "import numpy as np"
   ]
  },
  {
   "cell_type": "code",
   "execution_count": 3,
   "metadata": {},
   "outputs": [
    {
     "name": "stdout",
     "output_type": "stream",
     "text": [
      "[[175 153 125 104  88  60  39  24  15  11  24  49  59  81 109]\n",
      " [133 116  92  79  62  52  31  18   9   8  24  30  44  67  81]\n",
      " [ 85  72  63  53  42  34  26  13   4   9  13  29  30  42  54]\n",
      " [ 46  41  36  34  22  21  12   7   6  10  11  15  25  30  28]\n",
      " [ 18  13  14  14  10   7  13  10   3   3   3  11  12  10  15]\n",
      " [ 21  19  10  10   9   9  10   6   4   9   3   7   6  11  13]\n",
      " [ 52  44  39  29  28  19  14  13  10   4   7  14  18  31  33]\n",
      " [  8  72  64  52  40  35  20  13   6   4  12  24  35  46  52]\n",
      " [ 27 116  96  81  61  48  30  20   6   5  25  39  49  68  74]\n",
      " [ 76 146 126 101  81  68  42  25  12  15  26  46  63  82 101]\n",
      " [ 18 189 156 129 100  82  53  33  11  11  37  53  78 109 132]\n",
      " [ 64 227 196 155 125  94  65  39  12  13  38  65  99 131 163]\n",
      " [ 18 273 227 191 146 116  74  39  13  17  47  78 108 150 184]\n",
      " [ 65 309 261 214 171 131  92  50  17  13  51  88 132 169 213]\n",
      " [ 16 357 298 253 195 145 100  57  21  17  61  98 142 197 249]]\n"
     ]
    }
   ],
   "source": [
    "txt = \"\"\"\n",
    "    175 153 125 104 88 60 39 24 15 11 24 49 59 81 109\n",
    "    133 116 92 79 62 52 31 18 9 8 24 30 44 67 81\n",
    "    85 72 63 53 42 34 26 13 4 9 13 29 30 42 54\n",
    "    46 41 36 34 22 21 12 7 6 10 11 15 25 30 28\n",
    "    18 13 14 14 10 7 13 10 3 3 3 11 12 10 15\n",
    "    21 19 10 10 9 9 10 6 4 9 3 7 6 11 13\n",
    "    52 44 39 29 28 19 14 13 10 4 7 14 18 31 33\n",
    "    8 72 64 52 40 35 20 13 6 4 12 24 35 46 52\n",
    "    27 116 96 81 61 48 30 20 6 5 25 39 49 68 74\n",
    "    76 146 126 101 81 68 42 25 12 15 26 46 63 82 101\n",
    "    18 189 156 129 100 82 53 33 11 11 37 53 78 109 132\n",
    "    64 227 196 155 125 94 65 39 12 13 38 65 99 131 163\n",
    "    18 273 227 191 146 116 74 39 13 17 47 78 108 150 184\n",
    "    65 309 261 214 171 131 92 50 17 13 51 88 132 169 213\n",
    "    16 357 298 253 195 145 100 57 21 17 61 98 142 197 249\n",
    "\"\"\"\n",
    "\n",
    "space = AlgUtils.table_to_np(txt, np.int64)\n",
    "print(space)"
   ]
  },
  {
   "cell_type": "code",
   "execution_count": 14,
   "metadata": {},
   "outputs": [
    {
     "name": "stdout",
     "output_type": "stream",
     "text": [
      "{'step': 0, 'location': [14, 14], 'name': 'start', 'value': 249}\n",
      "{'step': 1, 'location': [14, 13], 'name': 'left', 'value': 197}\n",
      "{'step': 2, 'location': [14, 12], 'name': 'left', 'value': 142}\n",
      "{'step': 3, 'location': [14, 11], 'name': 'left', 'value': 98}\n",
      "{'step': 4, 'location': [14, 10], 'name': 'left', 'value': 61}\n",
      "{'step': 5, 'location': [14, 9], 'name': 'left', 'value': 17}\n",
      "{'step': 6, 'location': [13, 9], 'name': 'up', 'value': 13}\n"
     ]
    }
   ],
   "source": [
    "def local(space, initial):\n",
    "\n",
    "    step = 0\n",
    "    x = initial[0]\n",
    "    y = initial[1]\n",
    "    val = space[x,y]\n",
    "    \n",
    "    path = [{\n",
    "        \"step\": step,\n",
    "        \"location\": [x, y],\n",
    "        \"name\": \"start\",\n",
    "        \"value\": val,   \n",
    "    }]\n",
    "\n",
    "    dirs = [\n",
    "        ( 0, -1, \"left\"),\n",
    "        # (+1, -1, \"down-left\"),\n",
    "        (+1,  0, \"down\"), \n",
    "        # (+1, +1, \"down-right\"), \n",
    "        ( 0, +1, \"right\"),\n",
    "        # (-1, +1, \"up-right\"),\n",
    "        (-1  ,0, \"up\"),\n",
    "        # (-1, -1, \"up-left\"),\n",
    "    ]\n",
    "\n",
    "    while True:\n",
    "        step += 1\n",
    "        best_found = False\n",
    "        best_val = val\n",
    "        best_x = None\n",
    "        best_y = None\n",
    "        best_name = None\n",
    "        for dir in dirs:\n",
    "\n",
    "            # test if position is inside space boundaries\n",
    "            xn = x+dir[0]\n",
    "            yn = y+dir[1]\n",
    "            if(xn < 0 or xn >= space.shape[0] or yn < 0 or yn >= space.shape[1]):\n",
    "                continue\n",
    "\n",
    "            # test if value is better than previous best value\n",
    "            if(space[xn,yn] < best_val):\n",
    "                best_x = xn\n",
    "                best_y = yn\n",
    "                best_found = True\n",
    "                best_val = space[xn,yn]\n",
    "                best_name = dir[2]\n",
    "\n",
    "        # stop if no better value was found in all directions\n",
    "        if(not best_found):\n",
    "            break\n",
    "\n",
    "        # store current step\n",
    "        x = best_x\n",
    "        y = best_y\n",
    "        val = best_val\n",
    "        path.append({\n",
    "            \"step\": step,\n",
    "            \"location\": [x, y],\n",
    "            \"name\": best_name,\n",
    "            \"value\": val,\n",
    "        })\n",
    "\n",
    "    return path\n",
    "\n",
    "path = local(space, initial=(7+7, 7+7))\n",
    "\n",
    "for step in path:\n",
    "    print(step)\n",
    "    "
   ]
  }
 ],
 "metadata": {
  "kernelspec": {
   "display_name": "base",
   "language": "python",
   "name": "python3"
  },
  "language_info": {
   "codemirror_mode": {
    "name": "ipython",
    "version": 3
   },
   "file_extension": ".py",
   "mimetype": "text/x-python",
   "name": "python",
   "nbconvert_exporter": "python",
   "pygments_lexer": "ipython3",
   "version": "3.10.9"
  },
  "orig_nbformat": 4
 },
 "nbformat": 4,
 "nbformat_minor": 2
}
