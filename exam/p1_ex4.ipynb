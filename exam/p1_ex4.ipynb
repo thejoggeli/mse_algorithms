{
 "cells": [
  {
   "cell_type": "code",
   "execution_count": 5,
   "metadata": {},
   "outputs": [
    {
     "name": "stdout",
     "output_type": "stream",
     "text": [
      "[0, 1, 2, 3, 4, 5, 6, 7, 8, 9, 10]\n",
      "sum: 25\n",
      "calls: 9\n"
     ]
    }
   ],
   "source": [
    "import numpy as np\n",
    "import matplotlib\n",
    "import matplotlib.pyplot as plt\n",
    "\n",
    "calls = 0\n",
    "\n",
    "def sum(a, l, r):\n",
    "    global calls\n",
    "    calls += 1\n",
    "    if l == r:\n",
    "        return a[l]\n",
    "    centre = (l+r)//2\n",
    "    sum1 = sum(a, l, centre)\n",
    "    sum2 = sum(a, centre+1, r)\n",
    "    return sum1+sum2\n",
    "\n",
    "arr = [0,1,2,3,4,5,6,7,8,9,10]\n",
    "\n",
    "print(arr)\n",
    "\n",
    "print(\"sum:\", sum(arr,3,7))\n",
    "\n",
    "print(\"calls:\", calls)\n",
    "\n",
    "N = np.arange(1, 1000, 10)\n",
    "C = []\n",
    "\n",
    "for n in N:\n",
    "    calls = 0\n",
    "    arr = np.arange(0, n)\n",
    "    sum(arr, 0, len(arr)-1)\n",
    "    C.append(calls) \n",
    "\n",
    "\n"
   ]
  }
 ],
 "metadata": {
  "kernelspec": {
   "display_name": "base",
   "language": "python",
   "name": "python3"
  },
  "language_info": {
   "codemirror_mode": {
    "name": "ipython",
    "version": 3
   },
   "file_extension": ".py",
   "mimetype": "text/x-python",
   "name": "python",
   "nbconvert_exporter": "python",
   "pygments_lexer": "ipython3",
   "version": "3.10.9"
  },
  "orig_nbformat": 4
 },
 "nbformat": 4,
 "nbformat_minor": 2
}
