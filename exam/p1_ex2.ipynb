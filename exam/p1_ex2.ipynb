{
 "cells": [
  {
   "cell_type": "code",
   "execution_count": 8,
   "metadata": {},
   "outputs": [
    {
     "name": "stdout",
     "output_type": "stream",
     "text": [
      "None\n",
      "3\n",
      "0\n"
     ]
    }
   ],
   "source": [
    "def f(arr):\n",
    "    \n",
    "    # key-value map (e.g. python dictionary)\n",
    "    map = {} \n",
    "\n",
    "    for val in arr:\n",
    "\n",
    "        # check if map key is set\n",
    "        if val in map:\n",
    "\n",
    "            # key is in map, i.e. it appears multiple times\n",
    "            return val\n",
    "        \n",
    "        # set key\n",
    "        map[val] = 1\n",
    "\n",
    "    # no key was found twice    \n",
    "    return None\n",
    "\n",
    "arr = [1,2,3,4,5,6,7,8]\n",
    "print(f(arr))\n",
    "\n",
    "arr = [1,2,3,4,5,6,3,7,6,5,4]\n",
    "print(f(arr))\n",
    "\n",
    "arr = [1,2,3,4,5,6,9,0,0]\n",
    "print(f(arr))\n"
   ]
  }
 ],
 "metadata": {
  "kernelspec": {
   "display_name": "base",
   "language": "python",
   "name": "python3"
  },
  "language_info": {
   "codemirror_mode": {
    "name": "ipython",
    "version": 3
   },
   "file_extension": ".py",
   "mimetype": "text/x-python",
   "name": "python",
   "nbconvert_exporter": "python",
   "pygments_lexer": "ipython3",
   "version": "3.10.9"
  },
  "orig_nbformat": 4
 },
 "nbformat": 4,
 "nbformat_minor": 2
}
